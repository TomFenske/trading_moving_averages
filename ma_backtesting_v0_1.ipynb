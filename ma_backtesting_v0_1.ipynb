{
 "cells": [
  {
   "cell_type": "code",
   "execution_count": null,
   "metadata": {},
   "outputs": [],
   "source": [
    "#Moving Averages and backtesting \n",
    "\n",
    "#version control: \n",
    "# v0.1: simple MA with backtesting on buying signal only\n",
    "\n",
    "import numpy as np\n",
    "import pandas as pd\n",
    "import matplotlib.pyplot as plt\n",
    "import requests\n",
    "\n",
    "#define variables for moving averages with placeholder values\n",
    "ma_small=1\n",
    "ma_large=1\n",
    "\n",
    "def backtesting(stock,ma_small,ma_large):\n",
    "    stockprices = requests.get(f\"https://financialmodelingprep.com/api/v3/historical-price-full/{stock}?serietype=line\")\n",
    "    stockprices = stockprices.json()\n",
    "    \n",
    "\n",
    "#Parse the API response and select only last 1200 days of prices\n",
    "    stockprices = stockprices['historical'][-1200:]\n",
    "\n",
    "#Convert from dict to pandas datafram\n",
    "\n",
    "    stockprices = pd.DataFrame.from_dict(stockprices)\n",
    "    stockprices = stockprices.set_index('date')\n",
    "    #20 days to represent the 22 trading days in a month\n",
    "    stockprices['20d'] = stockprices['close'].rolling(ma_small).mean()\n",
    "    stockprices['250d'] = stockprices['close'].rolling(ma_large).mean()\n",
    "    ###STARTING BACKTESTING STRATEGY\n",
    "    #Start longposition list\n",
    "    longpositionsprofit = []\n",
    "\n",
    "    shortpositions = []\n",
    "\n",
    "    stockprices['buy'] =(stockprices['20d'] > stockprices['250d'])\n",
    "\n",
    "    #We find the first True since it is first day when the line has crossed. Also, ensure that we have at least two days where sticoprices\n",
    "    stockprices['firstbuy'] =   ((stockprices['buy'] == True) & (stockprices['buy'].shift(2) == False)& (stockprices['buy'].shift(1) == True))\n",
    "\n",
    "\n",
    "    buyingpoints = np.where(stockprices['firstbuy'] == True)\n",
    "\n",
    "    for item in buyingpoints[0]:\n",
    "        #close price of the stock when MA crosses\n",
    "        close_price = stockprices.iloc[item].close\n",
    "        #Enter long position\n",
    "        long = close_price*100\n",
    "        sellday = item + 20\n",
    "        close_price = stockprices.iloc[sellday].close\n",
    "        #Sell 20 days later:\n",
    "        sell = close_price*100\n",
    "\n",
    "        #Calculate profit\n",
    "        profit = sell - long\n",
    "\n",
    "        longpositionsprofit.append(profit)\n",
    "        \n",
    "    #Result of Moving Average Strategy of going long\n",
    "    print(longpositionsprofit )\n",
    "    print(str(sum(longpositionsprofit)) + ' is the profit of Moving Averag Strategy')\n",
    "\n",
    "    #Result of just holding the stock over 1200 days\n",
    "    firstdayprice = stockprices.iloc[0].close\n",
    "    lastdayprice = stockprices.iloc[-1].close\n",
    "\n",
    "    profit = 100*(lastdayprice - firstdayprice)\n",
    "    print(str(profit) + ' is the profit of holding over the selected period of 1200 days')\n",
    "\n",
    "\n",
    "  #Change apple for the ticker of any company you want to backtest\n",
    "backtesting('AAPL',20,250)\n",
    "\n",
    "print(' ')\n",
    "print('Done')"
   ]
  },
  {
   "cell_type": "code",
   "execution_count": null,
   "metadata": {},
   "outputs": [],
   "source": []
  },
  {
   "cell_type": "code",
   "execution_count": null,
   "metadata": {},
   "outputs": [],
   "source": []
  },
  {
   "cell_type": "markdown",
   "metadata": {},
   "source": [
    "Test for importing stock data into pandas_df via yahoo api "
   ]
  },
  {
   "cell_type": "code",
   "execution_count": null,
   "metadata": {},
   "outputs": [],
   "source": [
    "#!pip install yfinance\n",
    "#!pip install yahoofinancials\n",
    "import pandas as pd\n",
    "import numpy as np\n",
    "import matplotlib.pyplot as plt\n",
    "import yfinance as yf\n",
    "import yahoofinancials\n",
    "\n",
    "\n",
    "print('Done')"
   ]
  },
  {
   "cell_type": "code",
   "execution_count": null,
   "metadata": {},
   "outputs": [],
   "source": [
    "def build_stockdata(stock,ma_small,ma_large):\n",
    "        stockdata_df=yf.download(stock)\n",
    "        stockdata_df['ma_small'] = stockdata_df['Adj Close'].rolling(ma_small).mean()\n",
    "        stockdata_df['ma_large'] = stockdata_df['Adj Close'].rolling(ma_large).mean()\n",
    "        stockdata_df['long'] = (stockdata_df['ma_small'] > stockdata_df['ma_large'])\n",
    "        stockdata_df['short'] = (stockdata_df['ma_small'] < stockdata_df['ma_large'])\n",
    "        #stockdata_df['buydate'] = ((stockdata_df['long']=='True') & (stockdata_df['long'].shift(-1, axis=0)=='False'))\n",
    "        stockdata_df.to_excel('stockdata.xlsx')\n",
    "        return (stockdata_df) \n",
    "\n",
    "build_stockdata('AAPL',10,25)\n",
    "\n"
   ]
  },
  {
   "cell_type": "markdown",
   "metadata": {},
   "source": [
    "Trying to find a way to find the buy_date(pattern in stockdata_df['long']='FALSE''TRUE''TRUE')"
   ]
  },
  {
   "cell_type": "code",
   "execution_count": null,
   "metadata": {},
   "outputs": [],
   "source": [
    "#find the row where a value in the column changes\n",
    "#stockdata_df['buydate'] = stockdata_df['long'].diff()"
   ]
  },
  {
   "cell_type": "code",
   "execution_count": null,
   "metadata": {},
   "outputs": [],
   "source": [
    "indexes=stockdata_df[(stockdata_df['long']=='FALSE')&(df[\"ColA\"].shift(-1)==pattern[1])&(df[\"ColA\"].shift(-2)==pattern[2])].index"
   ]
  },
  {
   "cell_type": "code",
   "execution_count": null,
   "metadata": {},
   "outputs": [],
   "source": []
  },
  {
   "cell_type": "code",
   "execution_count": null,
   "metadata": {},
   "outputs": [],
   "source": [
    "#get stock prices first opportunity\n",
    "\"\"\"tsla_df = yf.download('TSLA', \n",
    "\n",
    "                      start='2015-01-01', \n",
    "\n",
    "                      end='2019-12-31', \n",
    "\n",
    "                      progress='TRUE')\n",
    "\"\"\"\n",
    "#get stock prices second opportunity\n",
    "\n",
    "\"\"\"tsla_df=yf.download('TSLA')\"\"\"\n",
    "\n",
    "#get stock prices third opportunity\n",
    "\n",
    "\"\"\"ticker = yf.Ticker('TSLA')\n",
    "\n",
    "tsla_df = ticker.history(period=\"max\")\n",
    "\n",
    "#tsla_df['Close'].plot(title=\"TSLA's stock price\")\n",
    "tsla_df.head()\"\"\"\n",
    "\n",
    "\n",
    " "
   ]
  },
  {
   "cell_type": "code",
   "execution_count": null,
   "metadata": {},
   "outputs": [],
   "source": [
    "#function for getting stock prices within a specific range\n",
    "\n",
    "\"\"\"def get_stockdata_range(stock,start_date,end_date):\n",
    "    stock_df = yf.download(stock, \n",
    "\n",
    "                          start=start_date, \n",
    "\n",
    "                          end=end_date, \n",
    "\n",
    "                          progress='TRUE')\n",
    "    return stock_df\"\"\"\n",
    "#call function\n",
    "\n",
    "\"\"\"get_stockdata_range('TSLA','1999-01-01','2019-12-31')\"\"\"\n"
   ]
  },
  {
   "cell_type": "code",
   "execution_count": null,
   "metadata": {},
   "outputs": [],
   "source": []
  }
 ],
 "metadata": {
  "kernelspec": {
   "display_name": "Python 3",
   "language": "python",
   "name": "python3"
  },
  "language_info": {
   "codemirror_mode": {
    "name": "ipython",
    "version": 3
   },
   "file_extension": ".py",
   "mimetype": "text/x-python",
   "name": "python",
   "nbconvert_exporter": "python",
   "pygments_lexer": "ipython3",
   "version": "3.7.6"
  }
 },
 "nbformat": 4,
 "nbformat_minor": 4
}
